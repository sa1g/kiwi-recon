{
 "cells": [
  {
   "cell_type": "code",
   "execution_count": 1,
   "metadata": {},
   "outputs": [
    {
     "ename": "KeyboardInterrupt",
     "evalue": "",
     "output_type": "error",
     "traceback": [
      "\u001b[0;31m---------------------------------------------------------------------------\u001b[0m",
      "\u001b[0;31mKeyboardInterrupt\u001b[0m                         Traceback (most recent call last)",
      "Cell \u001b[0;32mIn[1], line 18\u001b[0m\n\u001b[1;32m     14\u001b[0m cv2\u001b[38;5;241m.\u001b[39mcreateTrackbar(\u001b[38;5;124m'\u001b[39m\u001b[38;5;124mV Higher\u001b[39m\u001b[38;5;124m'\u001b[39m,\u001b[38;5;124m'\u001b[39m\u001b[38;5;124mmarking\u001b[39m\u001b[38;5;124m'\u001b[39m,\u001b[38;5;241m255\u001b[39m,\u001b[38;5;241m255\u001b[39m,nothing)\n\u001b[1;32m     17\u001b[0m \u001b[38;5;28;01mwhile\u001b[39;00m(\u001b[38;5;241m1\u001b[39m):\n\u001b[0;32m---> 18\u001b[0m     img \u001b[38;5;241m=\u001b[39m \u001b[43mcv2\u001b[49m\u001b[38;5;241;43m.\u001b[39;49m\u001b[43mimread\u001b[49m\u001b[43m(\u001b[49m\u001b[38;5;124;43m'\u001b[39;49m\u001b[38;5;124;43mplot/1 - out.png\u001b[39;49m\u001b[38;5;124;43m'\u001b[39;49m\u001b[43m)\u001b[49m\n\u001b[1;32m     20\u001b[0m     img \u001b[38;5;241m=\u001b[39m cv2\u001b[38;5;241m.\u001b[39mflip(img,\u001b[38;5;241m1\u001b[39m)\n\u001b[1;32m     22\u001b[0m     hsv \u001b[38;5;241m=\u001b[39m cv2\u001b[38;5;241m.\u001b[39mcvtColor(img, cv2\u001b[38;5;241m.\u001b[39mCOLOR_BGR2HSV)\n",
      "\u001b[0;31mKeyboardInterrupt\u001b[0m: "
     ]
    }
   ],
   "source": [
    "import cv2\n",
    "import numpy as np\n",
    "\n",
    "def nothing(x):\n",
    "    pass\n",
    "\n",
    "cv2.namedWindow('marking')\n",
    "\n",
    "cv2.createTrackbar('H Lower','marking',0,179,nothing)\n",
    "cv2.createTrackbar('H Higher','marking',179,179,nothing)\n",
    "cv2.createTrackbar('S Lower','marking',0,255,nothing)\n",
    "cv2.createTrackbar('S Higher','marking',255,255,nothing)\n",
    "cv2.createTrackbar('V Lower','marking',0,255,nothing)\n",
    "cv2.createTrackbar('V Higher','marking',255,255,nothing)\n",
    "\n",
    "\n",
    "while(1):\n",
    "    img = cv2.imread('plot/1 - out.png')\n",
    "\n",
    "    img = cv2.flip(img,1)\n",
    "\n",
    "    hsv = cv2.cvtColor(img, cv2.COLOR_BGR2HSV)\n",
    "\n",
    "    hL = cv2.getTrackbarPos('H Lower','marking')\n",
    "    hH = cv2.getTrackbarPos('H Higher','marking')\n",
    "    sL = cv2.getTrackbarPos('S Lower','marking')\n",
    "    sH = cv2.getTrackbarPos('S Higher','marking')\n",
    "    vL = cv2.getTrackbarPos('V Lower','marking')\n",
    "    vH = cv2.getTrackbarPos('V Higher','marking')\n",
    "\n",
    "    LowerRegion = np.array([hL,sL,vL],np.uint8)\n",
    "    upperRegion = np.array([hH,sH,vH],np.uint8)\n",
    "\n",
    "    redObject = cv2.inRange(hsv,LowerRegion,upperRegion)\n",
    "\n",
    "    kernal = np.ones((1,1),\"uint8\")\n",
    "\n",
    "    red = cv2.morphologyEx(redObject,cv2.MORPH_OPEN,kernal)\n",
    "    red = cv2.dilate(red,kernal,iterations=1)\n",
    "\n",
    "    res1=cv2.bitwise_and(img, img, mask = red)\n",
    "\n",
    "    imS = cv2.resize(res1, (900,900))                \n",
    "    cv2.imshow(\"Masking \", imS)\n",
    "\n",
    "    if cv2.waitKey(10) & 0xFF == ord('q'):\n",
    "        cv2.destroyAllWindows()\n",
    "        break"
   ]
  },
  {
   "cell_type": "code",
   "execution_count": null,
   "metadata": {},
   "outputs": [],
   "source": []
  }
 ],
 "metadata": {
  "kernelspec": {
   "display_name": "kiwi",
   "language": "python",
   "name": "python3"
  },
  "language_info": {
   "codemirror_mode": {
    "name": "ipython",
    "version": 3
   },
   "file_extension": ".py",
   "mimetype": "text/x-python",
   "name": "python",
   "nbconvert_exporter": "python",
   "pygments_lexer": "ipython3",
   "version": "3.10.13"
  }
 },
 "nbformat": 4,
 "nbformat_minor": 2
}
